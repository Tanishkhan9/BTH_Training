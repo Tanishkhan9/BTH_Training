{
 "cells": [
  {
   "cell_type": "markdown",
   "metadata": {
    "id": "p4QodeGcXolo"
   },
   "source": [
    "Introduction to MIT app Invetor.\n",
    "\n",
    "\n",
    "What is Android native development?\n",
    "\n",
    "Android Native Development involves using java, kotlin , with android Studio which require programming knowledge.\n",
    "\n",
    "MIT app inventer is a beginner friendly , block based tool for app development using a drag and drop interface and visual logic blocks.\n",
    "\n",
    "\n",
    "MIT --> Massachusetts Institute of Technology\n",
    "\n",
    "Ex--> Build a hello world app using a label and a button in MIT app inventor\n",
    "\n",
    "UI designing and Block introduction:\n",
    "1. Designer view = Add buttons , labels , text boxs by dragging on to your screen layout\n",
    "2. Block view = Logic is build with colored puzzle like blocks . ex = control , logic and math\n",
    "3. Mini Tasks = create a screen with a text box (input) ,Button (submit) , Label (display output)\n",
    "\n",
    "using web component to access web API :\n",
    "\n",
    "--> MIT app inventor allows integration of http API using the web component\n",
    "1. Add web component (not visible)\n",
    "2. Set its URL property\n",
    "3. Use block-> Web.get ,Web.gottext to handle API response.\n",
    "\n",
    "Ex-> use a dictionary or weather API to fetch and display the data\n",
    "4. Connecting UI to API\n",
    "\n",
    "Ex (Project)-> Dictionary App.\n",
    "  1. user enter work click search .\n",
    "  2. Web component send request using words.\n",
    "  3. Gottext block recieve response json is parsed label show meaning.\n",
    "\n",
    "  Blocks =button.click --> set web.url from textbox.text\n",
    "  Web.gottext = decode json and set label.text\n",
    "\n",
    "  -- use Jsontextdecode to parse the API json response"
   ]
  },
  {
   "cell_type": "code",
   "execution_count": null,
   "metadata": {
    "colab": {
     "base_uri": "https://localhost:8080/",
     "height": 626
    },
    "executionInfo": {
     "elapsed": 12440,
     "status": "ok",
     "timestamp": 1752657682353,
     "user": {
      "displayName": "Tanish Khan",
      "userId": "12647544731517487695"
     },
     "user_tz": -330
    },
    "id": "CIATQcquXlbZ",
    "outputId": "1bf5b2e4-27b3-4175-8efe-e7f2ecbccce5"
   },
   "outputs": [
    {
     "name": "stdout",
     "output_type": "stream",
     "text": [
      "It looks like you are running Gradio on a hosted Jupyter notebook, which requires `share=True`. Automatically setting `share=True` (you can turn this off by setting `share=False` in `launch()` explicitly).\n",
      "\n",
      "Colab notebook detected. To show errors in colab notebook, set debug=True in launch()\n",
      "* Running on public URL: https://f5ddf533965a2f0ed1.gradio.live\n",
      "\n",
      "This share link expires in 1 week. For free permanent hosting and GPU upgrades, run `gradio deploy` from the terminal in the working directory to deploy to Hugging Face Spaces (https://huggingface.co/spaces)\n"
     ]
    },
    {
     "data": {
      "text/html": [
       "<div><iframe src=\"https://f5ddf533965a2f0ed1.gradio.live\" width=\"100%\" height=\"500\" allow=\"autoplay; camera; microphone; clipboard-read; clipboard-write;\" frameborder=\"0\" allowfullscreen></iframe></div>"
      ],
      "text/plain": [
       "<IPython.core.display.HTML object>"
      ]
     },
     "metadata": {},
     "output_type": "display_data"
    },
    {
     "data": {
      "text/plain": []
     },
     "execution_count": 11,
     "metadata": {},
     "output_type": "execute_result"
    }
   ],
   "source": [
    "!pip install --upgrade openai gradio --quiet\n",
    "\n",
    "import openai\n",
    "import gradio as gr\n",
    "\n",
    "openai_client =openai.OpenAI(api_key=\"\")\n",
    "\n",
    "def travel_assistant(destination):\n",
    "  try:\n",
    "    response =openai_client.chat.completions.create(\n",
    "        model=\"gpt-3.5-turbo\",\n",
    "        messages=[\n",
    "            {\"role\":\"system\",\"content\":\"You are a helpful travel assistant.\"},\n",
    "            {\"role\":\"user\",\"content\":f\"Suggest top 5 tourist places in {destination}\"}\n",
    "        ]\n",
    "    )\n",
    "    return response.choices[0].message.content\n",
    "  except Exception as e:\n",
    "    return f\"Error:{str(e)}\"\n",
    "\n",
    "demo=gr.Interface(fn = travel_assistant,\n",
    "                  inputs=gr.Textbox(label=\"Enter Destination\"),\n",
    "                  outputs=gr.Textbox(label=\"Travel Suggestion\"),\n",
    "                  title=\"AI Travel Assistant\")\n",
    "demo.launch()"
   ]
  }
 ],
 "metadata": {
  "colab": {
   "authorship_tag": "ABX9TyMFDml7wOvRL5wlCIDc1fXn",
   "provenance": []
  },
  "kernelspec": {
   "display_name": "Python 3",
   "name": "python3"
  },
  "language_info": {
   "name": "python"
  }
 },
 "nbformat": 4,
 "nbformat_minor": 0
}
